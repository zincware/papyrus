{
 "cells": [
  {
   "cell_type": "markdown",
   "metadata": {},
   "source": [
    "# How to Measurements\n",
    "\n",
    "## Overview\n",
    "This notebook shows how to use the `measurements` of the papyrus package. \n",
    "It will start by showing how to create a `Measurement` object and how to connect it \n",
    "to a recorder. "
   ]
  },
  {
   "cell_type": "code",
   "execution_count": 6,
   "metadata": {},
   "outputs": [],
   "source": [
    "import papyrus.measurements as m\n",
    "import numpy as np"
   ]
  },
  {
   "cell_type": "markdown",
   "metadata": {},
   "source": [
    "All available measurements are listed in the `papyrus.measurements` module.\n",
    "\n",
    "Of these, the `BasedMeasurement` is the parent class required to create a new measurement.\n",
    "All other measurements are based on this class and can be used for recording data."
   ]
  },
  {
   "cell_type": "code",
   "execution_count": 11,
   "metadata": {},
   "outputs": [
    {
     "data": {
      "text/plain": [
       "['BaseMeasurement',\n",
       " 'NTKTrace',\n",
       " 'NTKEntropy',\n",
       " 'NTKSelfEntropy',\n",
       " 'NTKEigenvalues',\n",
       " 'NTKMagnitudeDistribution',\n",
       " 'Loss',\n",
       " 'Accuracy',\n",
       " 'NTK']"
      ]
     },
     "execution_count": 11,
     "metadata": {},
     "output_type": "execute_result"
    }
   ],
   "source": [
    "# All available measurements\n",
    "\n",
    "m.__all__"
   ]
  },
  {
   "cell_type": "code",
   "execution_count": 13,
   "metadata": {},
   "outputs": [
    {
     "name": "stdout",
     "output_type": "stream",
     "text": [
      "Neural state keys: ['predictions', 'targets']\n",
      "The loss is [[0.25]\n",
      " [0.36]]\n"
     ]
    }
   ],
   "source": [
    "# Define a measurement for a loss function\n",
    "\n",
    "def loss_fn(predictions, targets):\n",
    "    return np.mean((predictions - targets) ** 2, keepdims=True)\n",
    "\n",
    "loss = m.Loss(\n",
    "    name='loss', # Name of the measurement\n",
    "    apply_fn=loss_fn # The function that will be called to compute the loss\n",
    ")\n",
    "print(f\"Neural state keys: {loss.neural_state_keys}\")\n",
    "\n",
    "# Defining the neural state\n",
    "neural_state = {\n",
    "    'predictions': np.array([[0.5], [0.6]]),\n",
    "    'targets': np.array([[0.], [0.]])\n",
    "}\n",
    "\n",
    "print(f\"The loss is {loss( **neural_state )}\")"
   ]
  },
  {
   "cell_type": "markdown",
   "metadata": {},
   "source": [
    "As you can see, calling a `Measurement` object will execute the measurement and return the result."
   ]
  },
  {
   "cell_type": "markdown",
   "metadata": {},
   "source": [
    "### Defining Neural States\n",
    "\n",
    "The concept behind neural states is to define the state of a neural network at a given time.\n",
    "This could theoretically take any form and the recorders allow for the definition of custom states.\n",
    "However, the default state can take the following form:\n",
    "```python\n",
    "neural_state = {\n",
    "    \"loss\": np.ndarray, \n",
    "    \"accuracy\": np.ndarray,\n",
    "    \"predictions\": np.ndarray,\n",
    "    \"targets\": np.ndarray,\n",
    "    \"ntk\": np.ndarray,\n",
    "}\n",
    "```\n",
    "Note that this defines one neural state.\n",
    "The keys of the dictionary have to match the keys of the `Measurement` objects. \n",
    "\n",
    "Each value of a neural state has to be a numpy array, with its first dimension defining \n",
    "the number of sub-states, the entire neural state is composed of.\n",
    "For all keys, the number of sub-states has to be the same."
   ]
  },
  {
   "cell_type": "markdown",
   "metadata": {},
   "source": [
    "## Default Measurements"
   ]
  },
  {
   "cell_type": "markdown",
   "metadata": {},
   "source": [
    "### Loss and Accuracy"
   ]
  },
  {
   "cell_type": "code",
   "execution_count": 14,
   "metadata": {},
   "outputs": [
    {
     "name": "stdout",
     "output_type": "stream",
     "text": [
      "The loss is [[0.25]\n",
      " [0.36]]\n",
      "The loss is [[0.5]\n",
      " [0.6]]\n"
     ]
    }
   ],
   "source": [
    "#############################################\n",
    "### Defining a loss function as a measurement\n",
    "#############################################\n",
    "\n",
    "def loss_fn(predictions, targets):\n",
    "    return np.mean((predictions - targets) ** 2, keepdims=True)\n",
    "\n",
    "loss = m.Loss(\n",
    "    name='loss', # Name of the measurement\n",
    "    apply_fn=loss_fn # The function that will be called to compute the loss\n",
    ")\n",
    "\n",
    "# Defining the neural state\n",
    "neural_state = {\n",
    "    'predictions': np.array([[0.5], [0.6]]),\n",
    "    'targets': np.array([[0.], [0.]])\n",
    "}\n",
    "\n",
    "print(f\"The loss is {loss( **neural_state )}\")\n",
    "\n",
    "\n",
    "#############################################\n",
    "### Measuring pre-computed loss values \n",
    "#############################################\n",
    "\n",
    "loss = m.Loss(name='loss')\n",
    "\n",
    "# Defining the neural states with a pre-computed loss\n",
    "neural_state = { 'loss': np.array([ [0.5], [0.6] ]) }\n",
    "\n",
    "print(f\"The loss is {loss(**neural_state)}\")"
   ]
  },
  {
   "cell_type": "code",
   "execution_count": 16,
   "metadata": {},
   "outputs": [
    {
     "name": "stdout",
     "output_type": "stream",
     "text": [
      "The accuracy is [0.66666667]\n",
      "The accuracy is [[0.8 0.6 0.3]\n",
      " [0.2 0.4 0.7]]\n"
     ]
    }
   ],
   "source": [
    "#############################################\n",
    "### Defining an accuracy measurement\n",
    "#############################################\n",
    "\n",
    "def accuracy_fn(predictions, targets):\n",
    "    return np.sum(np.argmax(predictions, axis=1) == np.argmax(targets, axis=1)) / len(predictions)\n",
    "\n",
    "neural_state = {\n",
    "    'predictions': np.array([ [[0.8, 0.2], [0.6, 0.4], [0.3, 0.7]] ]),\n",
    "    'targets': np.array([ [[1, 0], [0, 1], [0, 1]] ])\n",
    "}\n",
    "\n",
    "accuracy = m.Accuracy(\n",
    "    name='accuracy',\n",
    "    apply_fn=accuracy_fn\n",
    ")\n",
    "\n",
    "print(f\"The accuracy is {accuracy(**neural_state)}\")\n",
    "\n",
    "\n",
    "#############################################\n",
    "### Measuring pre-computed accuracy values\n",
    "#############################################\n",
    "\n",
    "accuracy = m.Accuracy(name='accuracy')\n",
    "\n",
    "neural_state = { 'accuracy': np.array([ [0.8, 0.6, 0.3] , [0.2, 0.4, 0.7] ])}\n",
    "\n",
    "print(f\"The accuracy is {accuracy(**neural_state)}\")"
   ]
  },
  {
   "cell_type": "markdown",
   "metadata": {},
   "source": [
    "### NTK Properties"
   ]
  },
  {
   "cell_type": "code",
   "execution_count": 17,
   "metadata": {},
   "outputs": [
    {
     "data": {
      "text/plain": [
       "odict_keys(['predictions', 'targets'])"
      ]
     },
     "execution_count": 17,
     "metadata": {},
     "output_type": "execute_result"
    }
   ],
   "source": [
    "import inspect\n",
    "\n",
    "a = inspect.signature(accuracy_fn).parameters\n",
    "a.keys()"
   ]
  },
  {
   "cell_type": "code",
   "execution_count": null,
   "metadata": {},
   "outputs": [],
   "source": []
  }
 ],
 "metadata": {
  "kernelspec": {
   "display_name": "papyrus",
   "language": "python",
   "name": "python3"
  },
  "language_info": {
   "codemirror_mode": {
    "name": "ipython",
    "version": 3
   },
   "file_extension": ".py",
   "mimetype": "text/x-python",
   "name": "python",
   "nbconvert_exporter": "python",
   "pygments_lexer": "ipython3",
   "version": "3.11.9"
  }
 },
 "nbformat": 4,
 "nbformat_minor": 2
}
