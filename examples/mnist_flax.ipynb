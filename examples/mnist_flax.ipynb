{
 "cells": [
  {
   "cell_type": "markdown",
   "metadata": {},
   "source": [
    "# Recording flax training on MNIST\n",
    "\n",
    "The tutorial is taken from https://flax.readthedocs.io/en/v0.5.3/notebooks/annotated_mnist.html\n",
    "and adapted using the `papyrus`. "
   ]
  },
  {
   "cell_type": "markdown",
   "metadata": {},
   "source": [
    "## Imports"
   ]
  },
  {
   "cell_type": "code",
   "execution_count": 1,
   "metadata": {},
   "outputs": [
    {
     "name": "stderr",
     "output_type": "stream",
     "text": [
      "/Users/konstantinnikolaou/Applications/miniconda3/envs/jax/lib/python3.11/site-packages/tqdm/auto.py:21: TqdmWarning: IProgress not found. Please update jupyter and ipywidgets. See https://ipywidgets.readthedocs.io/en/stable/user_install.html\n",
      "  from .autonotebook import tqdm as notebook_tqdm\n"
     ]
    }
   ],
   "source": [
    "import jax\n",
    "import jax.numpy as jnp                # JAX NumPy\n",
    "\n",
    "from flax import linen as nn           # The Linen API\n",
    "from flax.training import train_state  # Useful dataclass to keep train state\n",
    "\n",
    "import numpy as np                     # Ordinary NumPy\n",
    "import optax                           # Optimizers\n",
    "import tensorflow_datasets as tfds     # TFDS for MNIST\n",
    "\n",
    "\n",
    "import papyrus as pp\n",
    "import neural_tangents as nt"
   ]
  },
  {
   "cell_type": "code",
   "execution_count": 2,
   "metadata": {},
   "outputs": [],
   "source": [
    "from papyrus.utils.matrix_utils import unflatten_rank_4_tensor, compute_matrix_alignment"
   ]
  },
  {
   "cell_type": "code",
   "execution_count": 36,
   "metadata": {},
   "outputs": [
    {
     "data": {
      "text/plain": [
       "array([[0, 0, 0],\n",
       "       [0, 1, 2],\n",
       "       [0, 2, 4]])"
      ]
     },
     "execution_count": 36,
     "metadata": {},
     "output_type": "execute_result"
    }
   ],
   "source": [
    "vec = np.arange(3)\n",
    "# vec = np.array([ [0, 1], [1, 0] ])\n",
    "outer = np.outer(vec, vec)\n",
    "# out = unflatten_rank_4_tensor(outer, (vec.shape[0], vec.shape[0], vec.shape[1], vec.shape[1]))\n",
    "outer"
   ]
  },
  {
   "cell_type": "code",
   "execution_count": 14,
   "metadata": {},
   "outputs": [],
   "source": [
    "# Create two matrices that are orthogonal to each other\n",
    "A = np.array([[1, 0], [0, 1]])\n",
    "B = np.array([[0, 1], [1, 0]])\n",
    "\n",
    "A @ B\n",
    "assert compute_matrix_alignment(A, B) == 0\n",
    "np.testing.assert_almost_equal(compute_matrix_alignment(A, A), 1)\n",
    "np.testing.assert_almost_equal(compute_matrix_alignment(B, B), 1)\n",
    "np.testing.assert_almost_equal(compute_matrix_alignment(A, -A), -1)\n",
    "np.testing.assert_almost_equal(compute_matrix_alignment(A, 0.5 * A), 1)\n",
    "np.testing.assert_almost_equal(compute_matrix_alignment(A, 0.5*A + 0.5*B), np.sqrt(0.5))\n",
    "np.testing.assert_almost_equal(compute_matrix_alignment(A, A + B), np.sqrt(0.5))"
   ]
  },
  {
   "cell_type": "markdown",
   "metadata": {},
   "source": [
    "## Some Preparation"
   ]
  },
  {
   "cell_type": "code",
   "execution_count": null,
   "metadata": {},
   "outputs": [],
   "source": [
    "class CNN(nn.Module):\n",
    "    \"\"\"A simple CNN model.\"\"\"\n",
    "\n",
    "    @nn.compact\n",
    "    def __call__(self, x):\n",
    "        x = nn.Conv(features=32, kernel_size=(3, 3))(x)\n",
    "        x = nn.relu(x)\n",
    "        x = nn.avg_pool(x, window_shape=(2, 2), strides=(2, 2))\n",
    "        x = nn.Conv(features=64, kernel_size=(3, 3))(x)\n",
    "        x = nn.relu(x)\n",
    "        x = nn.avg_pool(x, window_shape=(2, 2), strides=(2, 2))\n",
    "        x = x.reshape((x.shape[0], -1))  # flatten\n",
    "        x = nn.Dense(features=256)(x)\n",
    "        x = nn.relu(x)\n",
    "        x = nn.Dense(features=10)(x)\n",
    "        return x"
   ]
  },
  {
   "cell_type": "code",
   "execution_count": null,
   "metadata": {},
   "outputs": [],
   "source": [
    "def cross_entropy_loss(*, logits, labels):\n",
    "    labels_onehot = jax.nn.one_hot(labels, num_classes=10)\n",
    "    return optax.softmax_cross_entropy(logits=logits, labels=labels_onehot).mean()\n",
    "\n",
    "def accuracy(*, logits, labels):\n",
    "    predicted_class = jnp.argmax(logits, axis=-1)\n",
    "    return jnp.mean(predicted_class == labels)\n",
    "    \n",
    "def compute_metrics(*, logits, labels):\n",
    "    loss = cross_entropy_loss(logits=logits, labels=labels)\n",
    "    acc = jnp.mean(jnp.argmax(logits, -1) == labels)\n",
    "    metrics = {\n",
    "        'loss': loss,\n",
    "        'accuracy': acc,\n",
    "    }\n",
    "    return metrics"
   ]
  },
  {
   "cell_type": "code",
   "execution_count": null,
   "metadata": {},
   "outputs": [],
   "source": [
    "def get_datasets(num_samples: int = None):\n",
    "    \"\"\"Load MNIST train and test datasets into memory.\"\"\"\n",
    "    ds_builder = tfds.builder('mnist')\n",
    "    ds_builder.download_and_prepare()\n",
    "    train_ds = tfds.as_numpy(ds_builder.as_dataset(split='train', batch_size=-1))\n",
    "    test_ds = tfds.as_numpy(ds_builder.as_dataset(split='test', batch_size=-1))\n",
    "    train_ds['image'] = jnp.float32(train_ds['image']) / 255.\n",
    "    test_ds['image'] = jnp.float32(test_ds['image']) / 255.\n",
    "\n",
    "    if num_samples:\n",
    "        train_idx = np.random.choice(train_ds['image'].shape[0], num_samples, replace=False)\n",
    "        test_idx = np.random.choice(test_ds['image'].shape[0], num_samples, replace=False)\n",
    "        train_ds['image'] = jnp.take(train_ds['image'], train_idx, axis=0)\n",
    "        train_ds['label'] = jnp.take(train_ds['label'], train_idx, axis=0)\n",
    "        test_ds['image'] = jnp.take(test_ds['image'], test_idx, axis=0)\n",
    "        test_ds['label'] = jnp.take(test_ds['label'], test_idx, axis=0)\n",
    "    \n",
    "    # Only take a subset of the data\n",
    "    train_ds = {k: v[:num_samples] for k, v in train_ds.items()}\n",
    "    return train_ds, test_ds"
   ]
  },
  {
   "cell_type": "code",
   "execution_count": null,
   "metadata": {},
   "outputs": [],
   "source": [
    "def create_train_state(rng, learning_rate, momentum):\n",
    "    \"\"\"Creates initial `TrainState`.\"\"\"\n",
    "    cnn = CNN()\n",
    "    params = cnn.init(rng, jnp.ones([1, 28, 28, 1]))['params']\n",
    "    tx = optax.sgd(learning_rate, momentum)\n",
    "    return train_state.TrainState.create(\n",
    "        apply_fn=cnn.apply, params=params, tx=tx)"
   ]
  },
  {
   "cell_type": "code",
   "execution_count": null,
   "metadata": {},
   "outputs": [],
   "source": [
    "@jax.jit\n",
    "def train_step(state, batch):\n",
    "    \"\"\"Train for a single step.\"\"\"\n",
    "    def loss_fn(params):\n",
    "        logits = CNN().apply({'params': params}, batch['image'])\n",
    "        loss = cross_entropy_loss(logits=logits, labels=batch['label'])\n",
    "        return loss, logits\n",
    "    grad_fn = jax.value_and_grad(loss_fn, has_aux=True)\n",
    "    (_, logits), grads = grad_fn(state.params)\n",
    "    state = state.apply_gradients(grads=grads)\n",
    "    return state"
   ]
  },
  {
   "cell_type": "code",
   "execution_count": null,
   "metadata": {},
   "outputs": [],
   "source": [
    "@jax.jit\n",
    "def eval_step(params, batch):\n",
    "    logits = CNN().apply({'params': params}, batch['image'])\n",
    "    return compute_metrics(logits=logits, labels=batch['label'])"
   ]
  },
  {
   "cell_type": "markdown",
   "metadata": {},
   "source": [
    "## Instantiate Recorders"
   ]
  },
  {
   "cell_type": "code",
   "execution_count": null,
   "metadata": {},
   "outputs": [],
   "source": [
    "# Create Measurements\n",
    "\n",
    "loss = pp.measurements.Loss(name='loss')\n",
    "acc = pp.measurements.Accuracy(name='accuracy')\n",
    "\n",
    "trace = pp.measurements.NTKTrace(name='trace')\n",
    "self_entropy = pp.measurements.NTKSelfEntropy(name='self_entropy')\n",
    "entropy = pp.measurements.NTKEntropy(name='entropy')\n",
    "\n",
    "# Batched NTK computation\n",
    "ntk_fn = nt.batch(nt.empirical_ntk_fn(CNN().apply, trace_axes=(), vmap_axes=0), batch_size=32)\n",
    "# # Single NTK computation\n",
    "# ntk_fn = nt.empirical_ntk_fn(CNN().apply, trace_axes=())\n",
    "\n",
    "# Test NTK computation\n",
    "cnn = CNN()\n",
    "rng = jax.random.PRNGKey(0)\n",
    "params = cnn.init(rng, jnp.ones([2, 28, 28, 1]))\n",
    "x = jnp.ones([2, 28, 28, 1])\n",
    "test_ntk = ntk_fn(x, None, params)\n",
    "assert test_ntk.shape == (2, 2, 10, 10)"
   ]
  },
  {
   "cell_type": "code",
   "execution_count": null,
   "metadata": {},
   "outputs": [],
   "source": [
    "# Create Recorders\n",
    "\n",
    "# Create temporary storage directory\n",
    "import os \n",
    "\n",
    "# Remove old directory if it exists\n",
    "os.system('rm -rf temp/')\n",
    "\n",
    "os.mkdir('temp/')\n",
    "storage_dir = 'temp/'\n",
    "\n",
    "train_recorder = pp.recorders.BaseRecorder(\n",
    "    name='train_recorder',\n",
    "    storage_path=storage_dir,\n",
    "    chunk_size=20, \n",
    "    measurements=[loss, acc, trace, self_entropy, entropy]\n",
    ")\n",
    "test_recorder = pp.recorders.BaseRecorder(\n",
    "    name='test_recorder',\n",
    "    storage_path=storage_dir,\n",
    "    chunk_size=2, \n",
    "    measurements=[loss, acc]\n",
    ")"
   ]
  },
  {
   "cell_type": "code",
   "execution_count": null,
   "metadata": {},
   "outputs": [],
   "source": [
    "def test_eval(params, test_ds):\n",
    "    metrics = eval_step(params, test_ds)\n",
    "    metrics = jax.device_get(metrics)\n",
    "    summary = jax.tree_map(lambda x: x.item(), metrics)\n",
    "    test_recorder.record(\n",
    "        neural_state={'loss': [summary['loss']], 'accuracy': [summary['accuracy']]})\n",
    "    return summary['loss'], summary['accuracy']\n",
    "\n",
    "\n",
    "def train_eval(params, train_ds):\n",
    "    # Compute NTK measurements\n",
    "    metrics = eval_step(params, train_ds)\n",
    "    batch_ntk = ntk_fn(train_ds['image'], None, {'params': params})\n",
    "    flat_batch_ntk, _ = pp.utils.flatten_rank_4_tensor(batch_ntk)\n",
    "    neural_state = {\n",
    "        \"loss\": [metrics['loss']], \n",
    "        \"accuracy\": [metrics['accuracy']], \n",
    "        \"ntk\": [flat_batch_ntk]\n",
    "    }\n",
    "    # Record measurements\n",
    "    train_recorder.record(neural_state=neural_state)\n",
    "    return metrics"
   ]
  },
  {
   "cell_type": "code",
   "execution_count": null,
   "metadata": {},
   "outputs": [],
   "source": [
    "def train_epoch(state, train_ds, batch_size, epoch, rng):\n",
    "    \"\"\"Train for a single epoch.\"\"\"\n",
    "    train_ds_size = len(train_ds['image'])\n",
    "    steps_per_epoch = train_ds_size // batch_size\n",
    "\n",
    "    perms = jax.random.permutation(rng, train_ds_size)\n",
    "    perms = perms[:steps_per_epoch * batch_size]  # skip incomplete batch\n",
    "    perms = perms.reshape((steps_per_epoch, batch_size))\n",
    "    batch_metrics = []\n",
    "    for perm in perms:\n",
    "        batch = {k: v[perm, ...] for k, v in train_ds.items()}\n",
    "        state = train_step(state, batch)\n",
    "        metrics = train_eval(state.params, batch)\n",
    "        batch_metrics.append(metrics)\n",
    "\n",
    "    # compute mean of metrics across each batch in epoch.\n",
    "    batch_metrics_np = jax.device_get(batch_metrics)\n",
    "    epoch_metrics_np = {\n",
    "        k: np.mean([metrics[k] for metrics in batch_metrics_np])\n",
    "        for k in batch_metrics_np[0]}\n",
    "\n",
    "    print('train epoch: %d, loss: %.4f, accuracy: %.2f' % (\n",
    "        epoch, epoch_metrics_np['loss'], epoch_metrics_np['accuracy'] * 100))\n",
    "\n",
    "    return state"
   ]
  },
  {
   "cell_type": "code",
   "execution_count": null,
   "metadata": {},
   "outputs": [],
   "source": [
    "train_ds, test_ds = get_datasets(num_samples=10000)\n",
    "\n",
    "rng = jax.random.PRNGKey(0)\n",
    "rng, init_rng = jax.random.split(rng)\n",
    "\n",
    "learning_rate = 0.1\n",
    "momentum = 0.9\n",
    "\n",
    "state = create_train_state(init_rng, learning_rate, momentum)\n",
    "del init_rng  # Must not be used anymore.\n",
    "\n",
    "num_epochs = 10\n",
    "batch_size = 32\n",
    "\n",
    "# Print the neural states required for the measurements\n",
    "print(f\"Neural States for training recording: {train_recorder.neural_state_keys}\")\n",
    "print(f\"Neural States for testing recording: {test_recorder.neural_state_keys}\")"
   ]
  },
  {
   "cell_type": "code",
   "execution_count": null,
   "metadata": {},
   "outputs": [],
   "source": [
    "# Execute training \n",
    "\n",
    "for epoch in range(1, num_epochs + 1):\n",
    "    # Use a separate PRNG key to permute image data during shuffling\n",
    "    rng, input_rng = jax.random.split(rng)\n",
    "    # Run an optimization step over a training batch\n",
    "    state = train_epoch(state, train_ds, batch_size, epoch, input_rng)\n",
    "    # Evaluate on the test set after each training epoch \n",
    "    test_loss, test_accuracy = test_eval(state.params, test_ds)\n",
    "    # train_eval(state.params, train_ds, epoch)\n",
    "    print(' test epoch: %d, loss: %.2f, accuracy: %.2f' % (\n",
    "        epoch, test_loss, test_accuracy * 100))"
   ]
  },
  {
   "cell_type": "markdown",
   "metadata": {},
   "source": [
    "## Load and Plot the Data"
   ]
  },
  {
   "cell_type": "code",
   "execution_count": null,
   "metadata": {},
   "outputs": [],
   "source": [
    "# Load the recorded data\n",
    "\n",
    "train_result = train_recorder.load()\n",
    "test_result = test_recorder.load()"
   ]
  },
  {
   "cell_type": "code",
   "execution_count": null,
   "metadata": {},
   "outputs": [],
   "source": [
    "import matplotlib.pyplot as plt"
   ]
  },
  {
   "cell_type": "code",
   "execution_count": null,
   "metadata": {},
   "outputs": [],
   "source": [
    "fig, ax = plt.subplots(1, 2, figsize=(12, 6))\n",
    "ax[0].plot(train_result['loss'], label='train')\n",
    "train_len = len(train_result['loss'])\n",
    "test_len = len(test_result['loss'])\n",
    "ax[0].plot(np.linspace(0, train_len, test_len), test_result['loss'], label='test')\n",
    "ax[0].set_title('Loss')\n",
    "ax[0].set_yscale('log')\n",
    "ax[0].legend()\n",
    "\n",
    "ax[1].plot(train_result['accuracy'], label='train')\n",
    "ax[1].plot(np.linspace(0, train_len, test_len), test_result['accuracy'], label='test')\n",
    "ax[1].set_title('Accuracy')\n",
    "ax[1].legend()"
   ]
  },
  {
   "cell_type": "code",
   "execution_count": null,
   "metadata": {},
   "outputs": [],
   "source": [
    "fig, ax = plt.subplots(1, 3, figsize=(18, 6))\n",
    "\n",
    "ax[0].plot(train_result['trace'])\n",
    "ax[0].set_title('NTK Trace')\n",
    "\n",
    "ax[1].plot(train_result['self_entropy'])\n",
    "ax[1].set_title('NTK Self Entropy')\n",
    "\n",
    "ax[2].plot(train_result['entropy'])\n",
    "ax[2].set_title('NTK Entropy')\n",
    "\n",
    "plt.show()\n"
   ]
  },
  {
   "cell_type": "code",
   "execution_count": null,
   "metadata": {},
   "outputs": [],
   "source": [
    "# Clean the temporary storage directory\n",
    "# Restart the kernel before running this cell\n",
    "\n",
    "import os\n",
    "\n",
    "os.system('rm -rf temp/')"
   ]
  },
  {
   "cell_type": "code",
   "execution_count": null,
   "metadata": {},
   "outputs": [],
   "source": []
  }
 ],
 "metadata": {
  "kernelspec": {
   "display_name": "jax_gpu",
   "language": "python",
   "name": "python3"
  },
  "language_info": {
   "codemirror_mode": {
    "name": "ipython",
    "version": 3
   },
   "file_extension": ".py",
   "mimetype": "text/x-python",
   "name": "python",
   "nbconvert_exporter": "python",
   "pygments_lexer": "ipython3",
   "version": "3.11.9"
  }
 },
 "nbformat": 4,
 "nbformat_minor": 2
}
