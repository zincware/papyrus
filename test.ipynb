{
 "cells": [
  {
   "cell_type": "code",
   "execution_count": 4,
   "metadata": {},
   "outputs": [],
   "source": [
    "import numpy as np\n",
    "import matplotlib.pyplot as plt"
   ]
  },
  {
   "cell_type": "code",
   "execution_count": 8,
   "metadata": {},
   "outputs": [
    {
     "data": {
      "image/png": "[encoded data removed]",
      "text/plain": [
       "<Figure size 640x480 with 1 Axes>"
      ]
     },
     "metadata": {},
     "output_type": "display_data"
    }
   ],
   "source": [
    "# dummy gram matrix\n",
    "\n",
    "size = 100\n",
    "rand_array = np.random.rand(size, size)\n",
    "\n",
    "G = np.dot(rand_array, rand_array.T)\n",
    "\n",
    "vals, vects = np.linalg.eigh(G)\n",
    "\n",
    "\n",
    "plt.plot(vals)\n",
    "plt.yscale('log')"
   ]
  },
  {
   "cell_type": "code",
   "execution_count": 11,
   "metadata": {},
   "outputs": [
    {
     "data": {
      "text/plain": [
       "(array([[ 0,  1,  2,  3,  4],\n",
       "        [ 5,  6,  7,  8,  9],\n",
       "        [10, 11, 12, 13, 14]]),\n",
       " array([[10, 11, 12, 13, 14],\n",
       "        [ 5,  6,  7,  8,  9],\n",
       "        [ 0,  1,  2,  3,  4]]))"
      ]
     },
     "execution_count": 11,
     "metadata": {},
     "output_type": "execute_result"
    }
   ],
   "source": [
    "a = np.arange(15).reshape(3, 5)\n",
    "a, a[::-1]"
   ]
  },
  {
   "cell_type": "code",
   "execution_count": 43,
   "metadata": {},
   "outputs": [
    {
     "data": {
      "text/plain": [
       "(array([-0.70710678, -0.70710678, -0.        ]),\n",
       " array([0.70710678, 0.70710678, 0.        ]))"
      ]
     },
     "execution_count": 43,
     "metadata": {},
     "output_type": "execute_result"
    }
   ],
   "source": [
    "# Create a 2x2 hermitian matrix of known eigenvalues and eigenvectors\n",
    "\n",
    "# eigenvalues\n",
    "l1 = 1\n",
    "l2 = 2\n",
    "l3 = 3\n",
    "\n",
    "# eigenvectors\n",
    "v1 = np.array([1, 1, 0]) / np.sqrt(2)\n",
    "v2 = np.array([1, -1, 0]) / np.sqrt(2)\n",
    "v3 = np.array([0, 0, 1])\n",
    "\n",
    "# create the matrix\n",
    "M = l1 * np.outer(v1, v1.conj()) + l2 * np.outer(v2, v2.conj()) + l3 * np.outer(v3, v3.conj())\n",
    "\n",
    "# check if it is hermitian\n",
    "assert np.allclose(M, M.T.conj())\n",
    "\n",
    "# check if the eigenvectors are correct\n",
    "vals, vects = np.linalg.eigh(M)\n",
    "vals, vects\n",
    "assert np.allclose(vals, [l1, l2, l3])\n",
    "assert np.allclose(-vects[:, 0], v1)\n",
    "assert np.allclose(-vects[:, 1], v2)\n"
   ]
  },
  {
   "cell_type": "code",
   "execution_count": null,
   "metadata": {},
   "outputs": [],
   "source": [
    "eigvals = np.array([1, 2])\n",
    "# Create a random 2x2 matrix\n",
    "A = np.random.randn(2, 2)\n",
    "# Construct the matrix with the specified eigenvalues\n",
    "B = np.dot(np.dot(A, np.diag(eigvals)), np.linalg.inv(A))\n",
    "# Compute the eigenvalues of the constructed matrix\n",
    "np.linalg.eigvals(B)"
   ]
  },
  {
   "cell_type": "code",
   "execution_count": null,
   "metadata": {},
   "outputs": [],
   "source": [
    "eigvals = np.array([1, 2])\n",
    "# Create a random 2x2 matrix\n",
    "A = np.random.randn(2, 2)\n",
    "# Construct the matrix with the specified eigenvalues\n",
    "B = np.dot(np.dot(A, np.diag(eigvals)), np.linalg.inv(A))\n",
    "# Compute the eigenvalues of the constructed matrix\n",
    "np.linalg.eigvals(B)"
   ]
  }
 ],
 "metadata": {
  "kernelspec": {
   "display_name": "jax_gpu",
   "language": "python",
   "name": "python3"
  },
  "language_info": {
   "codemirror_mode": {
    "name": "ipython",
    "version": 3
   },
   "file_extension": ".py",
   "mimetype": "text/x-python",
   "name": "python",
   "nbconvert_exporter": "python",
   "pygments_lexer": "ipython3",
   "version": "3.10.13"
  }
 },
 "nbformat": 4,
 "nbformat_minor": 2
}
